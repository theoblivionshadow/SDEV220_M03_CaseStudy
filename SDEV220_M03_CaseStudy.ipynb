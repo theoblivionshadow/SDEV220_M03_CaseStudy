{
 "cells": [
  {
   "cell_type": "code",
   "execution_count": 14,
   "id": "6658b3fd-c7ab-4581-983b-c29e1136c1fd",
   "metadata": {},
   "outputs": [
    {
     "name": "stdin",
     "output_type": "stream",
     "text": [
      "Enter vehicle type:  car\n",
      "Enter vehicle year:  2013\n",
      "Enter vehicle make:  Ford\n",
      "Enter vehicle model:  Taurus\n",
      "Enter number of vehicle doors (2 or 4):  4\n",
      "Enter vehicle roof style (solid or sunroof):  solid\n"
     ]
    },
    {
     "name": "stdout",
     "output_type": "stream",
     "text": [
      "\n",
      "Vehicle: car \n",
      "Year: 2013 \n",
      "Make: Ford \n",
      "Model: Taurus \n",
      "Number of doors: 4 \n",
      "Type of roof: solid \n"
     ]
    }
   ],
   "source": [
    "'''\n",
    "Shadow R.\n",
    "SDEV 220 - M03 Case Study\n",
    "06.19.2023\n",
    "\n",
    "Purpose:\n",
    "    Apply knowledge and skill in coding designing and utilizing classes in \n",
    "        Python code by creating a Vehicle class and Automobile subclass\n",
    "'''\n",
    "\n",
    "# def class 'Vehicle' w/ attribute 'type'\n",
    "class Vehicle():\n",
    "    #initialize class\n",
    "    def __init__(self, type):\n",
    "        self.type = type\n",
    "\n",
    "#def subclass 'Automobile' of class 'Vehicle\n",
    "# w/ added attributes 'year', 'make', 'model', 'doors', 'roof'\n",
    "class Automobile(Vehicle):\n",
    "    # initialize subclass\n",
    "    def __init__(self, type, year, make, model, doors=4, roof=\"solid\"):\n",
    "        super().__init__(type)\n",
    "        self.year = year\n",
    "        self.make = make\n",
    "        self.model = model\n",
    "        self.doors = doors # must be 2 or 4\n",
    "        self.roof = roof # solid or sun roof\n",
    "        \n",
    "    # def method to print automobile info\n",
    "    def info(self):\n",
    "        print(f\"\\n\\\n",
    "Vehicle: {self.type} \\n\\\n",
    "Year: {self.year} \\n\\\n",
    "Make: {self.make} \\n\\\n",
    "Model: {self.model} \\n\\\n",
    "Number of doors: {self.doors} \\n\\\n",
    "Type of roof: {self.roof} \\\n",
    "\")\n",
    "\n",
    "# lists to validate user entry for doors and roof\n",
    "validDoors = [\"2\", \"4\"]\n",
    "validRoof = [\"solid\", \"sunroof\"]\n",
    "\n",
    "#get user input for vehicle type using Vehicle parent class\n",
    "vehicle = Vehicle(input(\"Enter vehicle type: \"))\n",
    "\n",
    "#get user input for year, make, model\n",
    "year = input(\"Enter vehicle year: \")\n",
    "make = input(\"Enter vehicle make: \")\n",
    "model = input(\"Enter vehicle model: \")\n",
    "\n",
    "#get user input for doors\n",
    "doors = input(\"Enter number of vehicle doors (2 or 4): \")\n",
    "# validate user input for doors is \"2\" or \"4\", if not prompt user to reenter data\n",
    "while doors not in validDoors:\n",
    "    doors = input(\"Invalid entry. Doors must be 2 or 4. Reenter number of doors: \")\n",
    "    if doors in validDoors:\n",
    "        break\n",
    "\n",
    "#get user input for roof type\n",
    "roof = input(\"Enter vehicle roof style (solid or sunroof): \")\n",
    "# validate user input for roof is either \"solid\" or \"sunroof\", if not prompt user to reenter data\n",
    "while roof not in validRoof:\n",
    "    roof = input(\"Invalid entry. Roof must be 'solid' or 'sunroof'. Reenter type of roof: \")\n",
    "    if roof in validRoof:\n",
    "        break\n",
    "\n",
    "# assign user input to variable of Automobile subclass\n",
    "userAutom = Automobile(vehicle.type, year, make, model, doors, roof)\n",
    "\n",
    "#print user generated object's info\n",
    "userAutom.info()    "
   ]
  }
 ],
 "metadata": {
  "kernelspec": {
   "display_name": "Python 3 (ipykernel)",
   "language": "python",
   "name": "python3"
  },
  "language_info": {
   "codemirror_mode": {
    "name": "ipython",
    "version": 3
   },
   "file_extension": ".py",
   "mimetype": "text/x-python",
   "name": "python",
   "nbconvert_exporter": "python",
   "pygments_lexer": "ipython3",
   "version": "3.10.9"
  }
 },
 "nbformat": 4,
 "nbformat_minor": 5
}
