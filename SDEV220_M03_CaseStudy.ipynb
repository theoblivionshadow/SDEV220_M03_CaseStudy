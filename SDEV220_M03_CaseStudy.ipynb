{
 "cells": [
  {
   "cell_type": "code",
   "execution_count": null,
   "id": "f045a379-20f9-4eaa-a621-c77c300b5afe",
   "metadata": {},
   "outputs": [],
   "source": [
    "'''\n",
    "Shadow R.\n",
    "SDEV 220 - M03 Case Study\n",
    "06.19.2023\n",
    "\n",
    "Purpose:\n",
    "    Apply knowledge and skill in coding designing and utilizing classes in \n",
    "        Python code by creating a Vehicle class\n",
    "'''"
   ]
  },
  {
   "cell_type": "markdown",
   "id": "ec5c3daf-43fd-4089-b1a3-dd550e5664aa",
   "metadata": {},
   "source": [
    "Write a Python app that has the following classes:\n",
    "A super class called Vehicle, which contains an attribute for vehicle type, such as car, truck, plane, boat, or a broomstick.\n",
    "A class called Automobile which will inherit the attributes from Vehicle and also contain the following attributes:\n",
    "year\n",
    "make\n",
    "model\n",
    "doors (2 or 4)\n",
    "roof (solid or sun roof).\n",
    "Write an app that will accept user input for a car. The app will store \"car\" into the vehicle type in your Vehicle super class. \n",
    "The app will then ask the user for the year, make, model, doors, and type of roof and store thdata in the attributes above.\n",
    "The app will then output the data in an easy-to-read and understandable format, such as this:\n",
    "  Vehicle type: car\n",
    "  Year: 2022\n",
    "  Make: Toyota\n",
    "  Model: Corolla\n",
    "  Number of doors: 4\n",
    "  Type of roof: sun roof"
   ]
  },
  {
   "cell_type": "code",
   "execution_count": 7,
   "id": "6658b3fd-c7ab-4581-983b-c29e1136c1fd",
   "metadata": {},
   "outputs": [
    {
     "name": "stdin",
     "output_type": "stream",
     "text": [
      "Enter vehicle type:  car\n",
      "Enter vehicle year:  2013\n",
      "Enter vehicle make:  Ford\n",
      "Enter vehicle model:  Taurus\n",
      "Enter number of vehicle doors (2 or 4):  4\n",
      "Enter vehicle roof style (solid or sunroof):  solid\n"
     ]
    },
    {
     "name": "stdout",
     "output_type": "stream",
     "text": [
      "\n",
      "Vehicle type: <__main__.Vehicle object at 0x0000025AF67E74C0>\n",
      "\n",
      "Year: 2013 \n",
      "Make: Ford \n",
      "Model: Taurus \n",
      "Number of doors: 4 \n",
      "Type of roof: solid \n"
     ]
    }
   ],
   "source": [
    "# def class 'Vehicle' w/ attribute 'type'\n",
    "class Vehicle():\n",
    "    def __init__(self, type):\n",
    "        self.type = type\n",
    "    def info(self):\n",
    "        print(f\"\\nVehicle type: {self.type}\")\n",
    "\n",
    "#def subclass 'Automobile' of class 'Vehicle\n",
    "# w/ added attributes 'year', 'make', 'model', 'doors', 'roof'\n",
    "class Automobile(Vehicle):\n",
    "    def __init__(self, type, year, make, model, doors=4, roof=\"solid\"):\n",
    "        super().__init__(type)\n",
    "        self.year = year\n",
    "        self.make = make\n",
    "        self.model = model\n",
    "        self.doors = doors # must be 2 or 4\n",
    "        self.roof = roof # solid or sun roof\n",
    "    def info(self):\n",
    "        super().info()\n",
    "        print(f\"\\\n",
    "Year: {self.year} \\n\\\n",
    "Make: {self.make} \\n\\\n",
    "Model: {self.model} \\n\\\n",
    "Number of doors: {self.doors} \\n\\\n",
    "Type of roof: {self.roof} \\\n",
    "\")\n",
    "\n",
    "validDoors = [\"2\", \"4\"]\n",
    "validRoof = [\"solid\", \"sunroof\"]\n",
    "\n",
    "vehicle = Vehicle(input(\"Enter vehicle type: \"))\n",
    "\n",
    "year = input(\"Enter vehicle year: \")\n",
    "make = input(\"Enter vehicle make: \")\n",
    "model = input(\"Enter vehicle model: \")\n",
    "doors = input(\"Enter number of vehicle doors (2 or 4): \")\n",
    "\n",
    "while doors not in validDoors:\n",
    "    doors = input(\"Invalid entry. Doors must be 2 or 4. Reenter number of doors: \")\n",
    "    if doors in validDoors:\n",
    "        break\n",
    "\n",
    "roof = input(\"Enter vehicle roof style (solid or sunroof): \")\n",
    "\n",
    "while roof not in validRoof:\n",
    "    roof = input(\"Invalid entry. Roof must be 'solid' or 'sunroof'. Reenter type of roof: \")\n",
    "    if roof in validRoof:\n",
    "        break\n",
    "\n",
    "userAutom = Automobile(vehicle, year, make, model, doors, roof)\n",
    "\n",
    "userAutom.info()    "
   ]
  },
  {
   "cell_type": "code",
   "execution_count": null,
   "id": "c6d9e06f-07ae-4d88-904e-fc9cf5ddae72",
   "metadata": {},
   "outputs": [],
   "source": []
  },
  {
   "cell_type": "code",
   "execution_count": null,
   "id": "de3def92-c215-4157-8ef2-dfba3b2868de",
   "metadata": {},
   "outputs": [],
   "source": []
  }
 ],
 "metadata": {
  "kernelspec": {
   "display_name": "Python 3 (ipykernel)",
   "language": "python",
   "name": "python3"
  },
  "language_info": {
   "codemirror_mode": {
    "name": "ipython",
    "version": 3
   },
   "file_extension": ".py",
   "mimetype": "text/x-python",
   "name": "python",
   "nbconvert_exporter": "python",
   "pygments_lexer": "ipython3",
   "version": "3.10.9"
  }
 },
 "nbformat": 4,
 "nbformat_minor": 5
}
